{
 "cells": [
  {
   "cell_type": "markdown",
   "id": "312a9c9e",
   "metadata": {},
   "source": [
    "A little backstory about how this project came to be. I was looking for a job in Belgium (Flemish area in particular) between May and June 2025. My main issue is that my Dutch language skills are pretty weak which means that I had to look for the few English job descriptions on [LinkedIn](https://www.linkedin.com/jobs/) and [VDAB](https://www.vdab.be/vindeenjob/vacatures?sort=standaard) (the Flemish Employment Service). Manually looking one job ad after the other was tedious, hence I made this app that collects all available job positions on these two jobsites and collects the academic, technical and language criteria for each job on an excel sheet. I also integrated the ChatGPT API to look for the criteria in the job descriptions, so to use this you need your own [API key](https://platform.openai.com/api-keys) from ChatGPT. Making the app was a personal project to learn webscrapping and how to build a GUI.  "
   ]
  },
  {
   "cell_type": "markdown",
   "id": "8fdbc787",
   "metadata": {},
   "source": [
    "This Jupyter notebook shows the main code behind the app. The app is called `scrappy` an can be found in the `dist` folder. You can download it and run it on your laptop. "
   ]
  },
  {
   "cell_type": "markdown",
   "id": "35bcb654",
   "metadata": {},
   "source": [
    "## VDAB"
   ]
  },
  {
   "cell_type": "code",
   "execution_count": null,
   "id": "9d7e92b4",
   "metadata": {},
   "outputs": [],
   "source": [
    "from scrap_vdab import vdab"
   ]
  },
  {
   "cell_type": "markdown",
   "id": "a4e630ad",
   "metadata": {},
   "source": [
    "Go to `https://www.vdab.be/vindeenjob/vacatures?sort=standaard`. Fill in the `functie, bedrijf or trefwoord` and `Postcode, gemeente of provincie` fields. Click on `Zoek`. Copy paste the resulting link in the url below."
   ]
  },
  {
   "cell_type": "code",
   "execution_count": null,
   "id": "52ee9ef3",
   "metadata": {},
   "outputs": [],
   "source": [
    "url = 'https://www.vdab.be/vindeenjob/vacatures?trefwoord=biologie&locatie=Brussel%20(Regio)&locatieCode=BE1&sort=standaard' # example\n",
    "apikey = '..' # add your own from here https://platform.openai.com/api-keys\n",
    "\n",
    "# initialize search\n",
    "search = vdab(url, apikey, path= 'jobs')\n",
    "\n",
    "# collect the links of all jobs that match your job criteria\n",
    "alljobs = search.get_jobs_vdab()\n",
    "alljobs_list = search.unlist_get_href(alljobs)\n",
    "\n",
    "# load job descriptions and use chatgpt to find the language, academic and technical requirements and save these in an excel sheet \n",
    "search.get_job_description(alljobs_list)"
   ]
  },
  {
   "cell_type": "markdown",
   "id": "d1bc3c44",
   "metadata": {},
   "source": [
    "## LinkedIn"
   ]
  },
  {
   "cell_type": "code",
   "execution_count": null,
   "id": "48d4c7bb",
   "metadata": {},
   "outputs": [],
   "source": [
    "from scrap_linkedin import scrap "
   ]
  },
  {
   "cell_type": "code",
   "execution_count": null,
   "id": "f151b77a",
   "metadata": {},
   "outputs": [],
   "source": [
    "username = \"...\" # write your linkedin username, should be an email \n",
    "password= \"...\" # write your password\n",
    "\n",
    "# this is an example url. it should point to the jobs search site in linked in and the job title and location fields should be chosen\n",
    "url = 'https://www.linkedin.com/jobs/search/?currentJobId=4242585291&geoId=100902529&keywords=full%20stack%20developer&origin=JOBS_HOME_KEYWORD_AUTOCOMPLETE&refresh=true'\n",
    "\n",
    "# sign in LinkedIn, specify the local path (windows) where results will be saved\n",
    "search = scrap(url, username, password, path = 'replace\\with\\path\\to\\folder')\n",
    "\n",
    "# collect the links of all jobs that match your job criteria\n",
    "alljobs = search.get_all_job_links()\n",
    "print(len(alljobs), 'jobs found.')\n",
    "\n",
    "# load job descriptions and use chatgpt to find the language, academic and technical requirements and save these in an excel sheet \n",
    "search.get_job_description(alljobs)"
   ]
  }
 ],
 "metadata": {
  "kernelspec": {
   "display_name": "Python 3",
   "language": "python",
   "name": "python3"
  },
  "language_info": {
   "codemirror_mode": {
    "name": "ipython",
    "version": 3
   },
   "file_extension": ".py",
   "mimetype": "text/x-python",
   "name": "python",
   "nbconvert_exporter": "python",
   "pygments_lexer": "ipython3",
   "version": "3.13.2"
  }
 },
 "nbformat": 4,
 "nbformat_minor": 5
}
